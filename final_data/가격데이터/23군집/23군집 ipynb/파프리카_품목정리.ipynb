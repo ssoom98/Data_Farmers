{
 "cells": [
  {
   "cell_type": "code",
   "execution_count": 1,
   "id": "df388eaf-dfa2-4bcb-a604-919b5c9eb21d",
   "metadata": {},
   "outputs": [],
   "source": [
    "import pandas as pd\n",
    "\n",
    "# 파일 읽기 (인코딩 지정)\n",
    "df = pd.read_csv('파프리카.csv', encoding='cp949')"
   ]
  },
  {
   "cell_type": "code",
   "execution_count": 2,
   "id": "3c845318-18ce-41c1-a9ab-a874dfca8385",
   "metadata": {},
   "outputs": [
    {
     "name": "stdout",
     "output_type": "stream",
     "text": [
      "필터링 전: 18270행 → 필터링 후: 7308행\n",
      "품목별 데이터 수:\n",
      "품목명\n",
      "노랑파프리카    3654\n",
      "빨강파프리카    3654\n",
      "Name: count, dtype: int64\n"
     ]
    }
   ],
   "source": [
    "# 2️⃣ 대상 품목 리스트\n",
    "target_items = ['노랑파프리카', '빨강파프리카']\n",
    "\n",
    "# 3️⃣ 필터링\n",
    "filtered_df = df[df['품목명'].isin(target_items)]\n",
    "\n",
    "# 4️⃣ 결과 확인\n",
    "print(f\"필터링 전: {len(df)}행 → 필터링 후: {len(filtered_df)}행\")\n",
    "print(\"품목별 데이터 수:\")\n",
    "print(filtered_df['품목명'].value_counts())\n",
    "\n",
    "# 5️⃣ 저장\n",
    "filtered_df.to_csv('파프리카_머지제외.csv', index=False, encoding='utf-8-sig')"
   ]
  },
  {
   "cell_type": "markdown",
   "id": "d8085093-5d7d-4184-b308-0ee0dd44f609",
   "metadata": {},
   "source": [
    "파프리카 머지 제외 품목 정리 후 파프리카_머지제외.csv로 저장"
   ]
  },
  {
   "cell_type": "code",
   "execution_count": null,
   "id": "d64bfd28-a09f-4c6d-bdb8-3033b9b4ab5d",
   "metadata": {},
   "outputs": [],
   "source": []
  }
 ],
 "metadata": {
  "kernelspec": {
   "display_name": "Python [conda env:base] *",
   "language": "python",
   "name": "conda-base-py"
  },
  "language_info": {
   "codemirror_mode": {
    "name": "ipython",
    "version": 3
   },
   "file_extension": ".py",
   "mimetype": "text/x-python",
   "name": "python",
   "nbconvert_exporter": "python",
   "pygments_lexer": "ipython3",
   "version": "3.12.7"
  }
 },
 "nbformat": 4,
 "nbformat_minor": 5
}
