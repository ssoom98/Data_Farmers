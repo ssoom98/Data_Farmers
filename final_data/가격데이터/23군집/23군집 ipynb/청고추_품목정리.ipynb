{
 "cells": [
  {
   "cell_type": "code",
   "execution_count": 1,
   "id": "a3d320c8-02fc-4790-8499-323103258831",
   "metadata": {},
   "outputs": [],
   "source": [
    "import pandas as pd\n",
    "\n",
    "# 파일 읽기 (인코딩 지정)\n",
    "df = pd.read_csv('청고추.csv', encoding='cp949')"
   ]
  },
  {
   "cell_type": "code",
   "execution_count": 2,
   "id": "06603213-193f-4f5f-95e0-aa82164281d8",
   "metadata": {},
   "outputs": [
    {
     "name": "stdout",
     "output_type": "stream",
     "text": [
      "필터링 전: 25578행 → 필터링 후: 14616행\n",
      "품목별 데이터 수:\n",
      "품목명\n",
      "녹광        3654\n",
      "오이맛고추     3654\n",
      "청양        3654\n",
      "청초(일반)    3654\n",
      "Name: count, dtype: int64\n"
     ]
    }
   ],
   "source": [
    "# 2️⃣ 대상 품목 리스트\n",
    "target_items = ['녹광', '오이맛고추', '청양', '청초(일반)']\n",
    "\n",
    "# 3️⃣ 필터링\n",
    "filtered_df = df[df['품목명'].isin(target_items)]\n",
    "\n",
    "# 4️⃣ 결과 확인\n",
    "print(f\"필터링 전: {len(df)}행 → 필터링 후: {len(filtered_df)}행\")\n",
    "print(\"품목별 데이터 수:\")\n",
    "print(filtered_df['품목명'].value_counts())\n",
    "\n",
    "# 5️⃣ 저장\n",
    "filtered_df.to_csv('청고추_머지제외.csv', index=False, encoding='utf-8-sig')\n"
   ]
  },
  {
   "cell_type": "code",
   "execution_count": null,
   "id": "3ddbc7a9-d7d9-464f-bbc1-7b0962cde28c",
   "metadata": {},
   "outputs": [],
   "source": []
  }
 ],
 "metadata": {
  "kernelspec": {
   "display_name": "Python 3 (ipykernel)",
   "language": "python",
   "name": "python3"
  },
  "language_info": {
   "codemirror_mode": {
    "name": "ipython",
    "version": 3
   },
   "file_extension": ".py",
   "mimetype": "text/x-python",
   "name": "python",
   "nbconvert_exporter": "python",
   "pygments_lexer": "ipython3",
   "version": "3.10.9"
  }
 },
 "nbformat": 4,
 "nbformat_minor": 5
}
