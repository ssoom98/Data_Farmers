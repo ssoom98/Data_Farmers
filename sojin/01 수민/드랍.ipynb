{
 "cells": [
  {
   "cell_type": "code",
   "execution_count": 4,
   "id": "0f0e5656",
   "metadata": {},
   "outputs": [
    {
     "name": "stdout",
     "output_type": "stream",
     "text": [
      "[INFO] CWD: /Users/sojinjung/Documents/GitHub/GDF_Final_G3/sojin/01 수민\n",
      "[INFO] 찾은 CSV: 5개\n",
      "[OK] 느타리버섯.csv: 14616 → 10962 (드랍 3654행) | 사용컬럼: 품목명 | 저장: /Users/sojinjung/Documents/GitHub/GDF_Final_G3/sojin/01 수민/cleaned/느타리버섯_cleaned.csv\n",
      "[OK] 새송이버섯.csv: 3654 → 3654 (드랍 0행) | 사용컬럼: 품목명 | 저장: /Users/sojinjung/Documents/GitHub/GDF_Final_G3/sojin/01 수민/cleaned/새송이버섯_cleaned.csv\n",
      "[OK] 양송이버섯.csv: 3654 → 3654 (드랍 0행) | 사용컬럼: 품목명 | 저장: /Users/sojinjung/Documents/GitHub/GDF_Final_G3/sojin/01 수민/cleaned/양송이버섯_cleaned.csv\n",
      "[OK] 팽이버섯.csv: 3654 → 3654 (드랍 0행) | 사용컬럼: 품목명 | 저장: /Users/sojinjung/Documents/GitHub/GDF_Final_G3/sojin/01 수민/cleaned/팽이버섯_cleaned.csv\n",
      "[OK] 표고버섯.csv: 10962 → 7308 (드랍 3654행) | 사용컬럼: 품목명 | 저장: /Users/sojinjung/Documents/GitHub/GDF_Final_G3/sojin/01 수민/cleaned/표고버섯_cleaned.csv\n",
      "\n",
      "[요약] 5개 파일 처리 완료. 총 36540행 → 29232행\n",
      "[완료] 각 폴더의 cleaned/ 안을 확인하세요.\n"
     ]
    }
   ],
   "source": [
    "# drop_from_originals.py\n",
    "from pathlib import Path\n",
    "import pandas as pd\n",
    "\n",
    "# 1) 드랍 대상\n",
    "DROP_ITEMS = {\"애느타리(일반)\", \"건표고버섯\", \"꽃느타리버섯\", \"생표고(수입)\"}\n",
    "CANDIDATE_COLS = [\"품목명\", \"세부 품목\", \"세부품목\", \"품목\"]\n",
    "\n",
    "# 2) 입력 파일 수집: 현재 폴더와 ./01 수민 모두 탐색\n",
    "candidates = [Path(\".\"), Path(\"./01 수민\")]\n",
    "files = []\n",
    "for root in candidates:\n",
    "    if root.exists():\n",
    "        for p in sorted(root.glob(\"*.csv\")):\n",
    "            if not p.name.endswith(\"_cleaned.csv\"):  # 결과물 재처리 방지\n",
    "                files.append(p.resolve())\n",
    "\n",
    "# 중복 제거(동일 경로가 두 번 잡히는 경우 방지)\n",
    "files = list(dict.fromkeys(files))\n",
    "\n",
    "print(f\"[INFO] CWD: {Path.cwd().resolve()}\")\n",
    "print(f\"[INFO] 찾은 CSV: {len(files)}개\")\n",
    "if not files:\n",
    "    raise SystemExit(\"[중지] 처리할 CSV를 찾지 못했습니다. 실행 위치/경로를 확인하세요.\")\n",
    "\n",
    "total_in = total_out = 0\n",
    "for fp in files:\n",
    "    # 3) 읽기 (인코딩 자동 대체)\n",
    "    try:\n",
    "        df = pd.read_csv(fp, encoding=\"utf-8-sig\")\n",
    "    except UnicodeDecodeError:\n",
    "        df = pd.read_csv(fp, encoding=\"cp949\")\n",
    "\n",
    "    # 칼럼 공백 제거\n",
    "    df.columns = df.columns.str.strip()\n",
    "\n",
    "    # 4) 세부품목 컬럼 탐지\n",
    "    target_col = next((c for c in CANDIDATE_COLS if c in df.columns), None)\n",
    "    if target_col is None:\n",
    "        print(f\"[SKIP] {fp.name}: 세부품목 컬럼을 찾지 못함 -> 보유칼럼 예시: {list(df.columns)[:8]}\")\n",
    "        continue\n",
    "\n",
    "    before = len(df)\n",
    "    df2 = df[~df[target_col].astype(str).isin(DROP_ITEMS)].copy()\n",
    "    after = len(df2)\n",
    "\n",
    "    # 5) 저장: 원본 파일이 있는 폴더 아래 cleaned/\n",
    "    out_dir = fp.parent / \"cleaned\"\n",
    "    out_dir.mkdir(parents=True, exist_ok=True)\n",
    "    out_path = out_dir / f\"{fp.stem}_cleaned.csv\"\n",
    "    df2.to_csv(out_path, index=False, encoding=\"utf-8-sig\")\n",
    "\n",
    "    total_in += before\n",
    "    total_out += after\n",
    "    dropped = before - after\n",
    "    print(f\"[OK] {fp.name}: {before} → {after} (드랍 {dropped}행) | 사용컬럼: {target_col} | 저장: {out_path}\")\n",
    "\n",
    "print(f\"\\n[요약] {len(files)}개 파일 처리 완료. 총 {total_in}행 → {total_out}행\")\n",
    "print(\"[완료] 각 폴더의 cleaned/ 안을 확인하세요.\")\n"
   ]
  },
  {
   "cell_type": "code",
   "execution_count": null,
   "id": "2dfa27ab",
   "metadata": {},
   "outputs": [],
   "source": []
  }
 ],
 "metadata": {
  "kernelspec": {
   "display_name": "base",
   "language": "python",
   "name": "python3"
  },
  "language_info": {
   "codemirror_mode": {
    "name": "ipython",
    "version": 3
   },
   "file_extension": ".py",
   "mimetype": "text/x-python",
   "name": "python",
   "nbconvert_exporter": "python",
   "pygments_lexer": "ipython3",
   "version": "3.12.7"
  }
 },
 "nbformat": 4,
 "nbformat_minor": 5
}
