{
 "cells": [
  {
   "cell_type": "code",
   "execution_count": 3,
   "id": "4420d56c",
   "metadata": {},
   "outputs": [
    {
     "name": "stdout",
     "output_type": "stream",
     "text": [
      "마늘.csv: 10962행 → 저장품목/마늘_저장품목.csv 저장 완료\n",
      "생강.csv: 7308행 → 저장품목/생강_저장품목.csv 저장 완료\n",
      "양배추.csv: 3654행 → 저장품목/양배추_저장품목.csv 저장 완료\n",
      "양파.csv: 3654행 → 저장품목/양파_저장품목.csv 저장 완료\n"
     ]
    }
   ],
   "source": [
    "import pandas as pd\n",
    "from pathlib import Path\n",
    "\n",
    "# CSV가 들어있는 폴더 경로\n",
    "DATA_DIR = Path(\"저장품목\")\n",
    "\n",
    "# 남길 품목명 조건\n",
    "filters = {\n",
    "    \"마늘.csv\": [\"저장형 난지\", \"저장형 대서\", \"저장형 한지\"],\n",
    "    \"생강.csv\": [\"재강\", \"구강\"],\n",
    "    \"양배추.csv\": [\"저장양배추\"],\n",
    "    \"양파.csv\": [\"저장양파\"],  # 띄어쓰기 없음 주의\n",
    "}\n",
    "\n",
    "# 각 파일 필터링 및 저장\n",
    "for file, keep_values in filters.items():\n",
    "    try:\n",
    "        path = DATA_DIR / file\n",
    "        df = pd.read_csv(path, encoding=\"cp949\")   # 한글 CSV는 보통 cp949\n",
    "        filtered = df[df[\"품목명\"].isin(keep_values)]\n",
    "\n",
    "        # 저장 경로 (같은 폴더에 _저장품목 붙여서 저장)\n",
    "        output_path = DATA_DIR / file.replace(\".csv\", \"_저장품목.csv\")\n",
    "        filtered.to_csv(output_path, index=False, encoding=\"utf-8-sig\")\n",
    "\n",
    "        print(f\"{file}: {len(filtered)}행 → {output_path} 저장 완료\")\n",
    "\n",
    "    except Exception as e:\n",
    "        print(f\"{file} 처리 중 에러 발생: {e}\")\n"
   ]
  },
  {
   "cell_type": "code",
   "execution_count": null,
   "id": "4767ef05",
   "metadata": {},
   "outputs": [],
   "source": []
  }
 ],
 "metadata": {
  "kernelspec": {
   "display_name": "base",
   "language": "python",
   "name": "python3"
  },
  "language_info": {
   "codemirror_mode": {
    "name": "ipython",
    "version": 3
   },
   "file_extension": ".py",
   "mimetype": "text/x-python",
   "name": "python",
   "nbconvert_exporter": "python",
   "pygments_lexer": "ipython3",
   "version": "3.12.7"
  }
 },
 "nbformat": 4,
 "nbformat_minor": 5
}
