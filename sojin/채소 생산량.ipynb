{
 "cells": [
  {
   "cell_type": "code",
   "execution_count": 1,
   "id": "303c93dc",
   "metadata": {},
   "outputs": [
    {
     "name": "stdout",
     "output_type": "stream",
     "text": [
      "찾은 파일 목록: []\n"
     ]
    },
    {
     "ename": "FileNotFoundError",
     "evalue": "⚠️ CSV 파일을 찾지 못했습니다. 경로를 확인하세요.",
     "output_type": "error",
     "traceback": [
      "\u001b[0;31m---------------------------------------------------------------------------\u001b[0m",
      "\u001b[0;31mFileNotFoundError\u001b[0m                         Traceback (most recent call last)",
      "Cell \u001b[0;32mIn[1], line 14\u001b[0m\n\u001b[1;32m     12\u001b[0m \u001b[38;5;66;03m# 파일이 없을 경우 에러 발생\u001b[39;00m\n\u001b[1;32m     13\u001b[0m \u001b[38;5;28;01mif\u001b[39;00m \u001b[38;5;129;01mnot\u001b[39;00m all_files:\n\u001b[0;32m---> 14\u001b[0m     \u001b[38;5;28;01mraise\u001b[39;00m \u001b[38;5;167;01mFileNotFoundError\u001b[39;00m(\u001b[38;5;124m\"\u001b[39m\u001b[38;5;124m⚠️ CSV 파일을 찾지 못했습니다. 경로를 확인하세요.\u001b[39m\u001b[38;5;124m\"\u001b[39m)\n\u001b[1;32m     16\u001b[0m \u001b[38;5;66;03m# 데이터 합치기\u001b[39;00m\n\u001b[1;32m     17\u001b[0m df_list \u001b[38;5;241m=\u001b[39m []\n",
      "\u001b[0;31mFileNotFoundError\u001b[0m: ⚠️ CSV 파일을 찾지 못했습니다. 경로를 확인하세요."
     ]
    }
   ],
   "source": [
    "import pandas as pd\n",
    "import glob\n",
    "import os\n",
    "\n",
    "# 절대 경로 지정 (폴더 위치 그대로)\n",
    "folder_path = \"/Users/sojinjung/데스크탑/채소 생산량 데이터\"\n",
    "\n",
    "# CSV 파일 경로 불러오기\n",
    "all_files = glob.glob(os.path.join(folder_path, \"*.csv\"))\n",
    "print(\"찾은 파일 목록:\", all_files)\n",
    "\n",
    "# 파일이 없을 경우 에러 발생\n",
    "if not all_files:\n",
    "    raise FileNotFoundError(\"⚠️ CSV 파일을 찾지 못했습니다. 경로를 확인하세요.\")\n",
    "\n",
    "# 데이터 합치기\n",
    "df_list = []\n",
    "for file in all_files:\n",
    "    temp_df = pd.read_csv(file)\n",
    "    temp_df[\"source_file\"] = os.path.basename(file)  # 파일명 기록\n",
    "    df_list.append(temp_df)\n",
    "\n",
    "merged_df = pd.concat(df_list, ignore_index=True)\n",
    "\n",
    "# 결과 저장 (데스크탑에 저장되도록 함)\n",
    "save_path = \"/Users/sojinjung/데스크탑/채소생산량_통합.csv\"\n",
    "merged_df.to_csv(save_path, index=False, encoding=\"utf-8-sig\")\n",
    "\n",
    "print(f\"CSV 파일 통합 완료 → {save_path}\")\n"
   ]
  },
  {
   "cell_type": "code",
   "execution_count": null,
   "id": "e207c8b9",
   "metadata": {},
   "outputs": [],
   "source": []
  }
 ],
 "metadata": {
  "kernelspec": {
   "display_name": "base",
   "language": "python",
   "name": "python3"
  },
  "language_info": {
   "codemirror_mode": {
    "name": "ipython",
    "version": 3
   },
   "file_extension": ".py",
   "mimetype": "text/x-python",
   "name": "python",
   "nbconvert_exporter": "python",
   "pygments_lexer": "ipython3",
   "version": "3.12.7"
  }
 },
 "nbformat": 4,
 "nbformat_minor": 5
}
