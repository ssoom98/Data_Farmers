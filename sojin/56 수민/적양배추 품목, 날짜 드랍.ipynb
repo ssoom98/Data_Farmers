{
 "cells": [
  {
   "cell_type": "code",
   "execution_count": 1,
   "id": "f405bd01",
   "metadata": {},
   "outputs": [
    {
     "name": "stdout",
     "output_type": "stream",
     "text": [
      "[완료] 적양배추.csv → /Users/sojinjung/Documents/GitHub/GDF_Final_G3/sojin/전처리 최종_after_2015-10-19/적양배추_filtered.csv\n",
      "원본 행수: 7308, 필터링 후 행수: 3542\n",
      "보존된 최소 거래일자: 2015-10-20 00:00:00\n",
      "품목명 목록: ['적채(일반)']\n"
     ]
    }
   ],
   "source": [
    "# -*- coding: utf-8 -*-\n",
    "\"\"\"\n",
    "56수민 폴더 안의 적양배추.csv\n",
    " - 거래일자 <= 2015-10-19 드랍\n",
    " - 품목명 == '적양배추(수입)' 드랍\n",
    " - 결과는 '전처리 최종_after_2015-10-19' 폴더에 저장\n",
    "\"\"\"\n",
    "\n",
    "from pathlib import Path\n",
    "import pandas as pd\n",
    "\n",
    "# ----------------- 경로 설정 -----------------\n",
    "BASE_DIR = Path(\"/Users/sojinjung/Documents/GitHub/GDF_Final_G3/sojin\")\n",
    "INPUT_PATH = BASE_DIR / \"56 수민\" / \"적양배추.csv\"\n",
    "OUTPUT_DIR = BASE_DIR / \"전처리 최종_after_2015-10-19\"\n",
    "OUTPUT_DIR.mkdir(parents=True, exist_ok=True)\n",
    "OUTPUT_PATH = OUTPUT_DIR / \"적양배추_filtered.csv\"\n",
    "# ---------------------------------------------\n",
    "\n",
    "# 1) CSV 읽기 (인코딩 시도)\n",
    "try:\n",
    "    df = pd.read_csv(INPUT_PATH, encoding=\"utf-8-sig\")\n",
    "except UnicodeDecodeError:\n",
    "    df = pd.read_csv(INPUT_PATH, encoding=\"cp949\")\n",
    "\n",
    "# 2) 거래일자 컬럼 파싱\n",
    "df[\"거래일자\"] = pd.to_datetime(df[\"거래일자\"], errors=\"coerce\")\n",
    "\n",
    "# 3) 조건 적용\n",
    "cutoff = pd.Timestamp(\"2015-10-19\")\n",
    "mask_date = (df[\"거래일자\"].isna()) | (df[\"거래일자\"] > cutoff)   # NaT는 보존\n",
    "mask_item = df[\"품목명\"] != \"적양배추(수입)\"\n",
    "\n",
    "filtered_df = df.loc[mask_date & mask_item].copy()\n",
    "\n",
    "# 4) 저장\n",
    "filtered_df.to_csv(OUTPUT_PATH, index=False, encoding=\"utf-8-sig\")\n",
    "\n",
    "print(f\"[완료] {INPUT_PATH.name} → {OUTPUT_PATH}\")\n",
    "print(f\"원본 행수: {len(df)}, 필터링 후 행수: {len(filtered_df)}\")\n",
    "print(\"보존된 최소 거래일자:\", filtered_df[\"거래일자\"].min())\n",
    "print(\"품목명 목록:\", filtered_df['품목명'].unique())\n"
   ]
  },
  {
   "cell_type": "code",
   "execution_count": null,
   "id": "2ad8813d",
   "metadata": {},
   "outputs": [],
   "source": []
  }
 ],
 "metadata": {
  "kernelspec": {
   "display_name": "base",
   "language": "python",
   "name": "python3"
  },
  "language_info": {
   "codemirror_mode": {
    "name": "ipython",
    "version": 3
   },
   "file_extension": ".py",
   "mimetype": "text/x-python",
   "name": "python",
   "nbconvert_exporter": "python",
   "pygments_lexer": "ipython3",
   "version": "3.12.7"
  }
 },
 "nbformat": 4,
 "nbformat_minor": 5
}
