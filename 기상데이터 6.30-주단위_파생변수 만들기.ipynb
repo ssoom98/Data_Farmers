{
 "cells": [
  {
   "cell_type": "code",
   "execution_count": 3,
   "id": "c38f28af-54f4-4b67-887c-d11a6fca7036",
   "metadata": {},
   "outputs": [
    {
     "name": "stderr",
     "output_type": "stream",
     "text": [
      "C:\\Users\\henaj\\AppData\\Local\\Temp\\ipykernel_25640\\3075469095.py:19: PerformanceWarning: DataFrame is highly fragmented.  This is usually the result of calling `frame.insert` many times, which has poor performance.  Consider joining all columns at once using pd.concat(axis=1) instead. To get a de-fragmented frame, use `newframe = frame.copy()`\n",
      "  df[[f\"{col}_{w}w\" for col in numeric_cols]] = (\n",
      "C:\\Users\\henaj\\AppData\\Local\\Temp\\ipykernel_25640\\3075469095.py:19: PerformanceWarning: DataFrame is highly fragmented.  This is usually the result of calling `frame.insert` many times, which has poor performance.  Consider joining all columns at once using pd.concat(axis=1) instead. To get a de-fragmented frame, use `newframe = frame.copy()`\n",
      "  df[[f\"{col}_{w}w\" for col in numeric_cols]] = (\n",
      "C:\\Users\\henaj\\AppData\\Local\\Temp\\ipykernel_25640\\3075469095.py:19: PerformanceWarning: DataFrame is highly fragmented.  This is usually the result of calling `frame.insert` many times, which has poor performance.  Consider joining all columns at once using pd.concat(axis=1) instead. To get a de-fragmented frame, use `newframe = frame.copy()`\n",
      "  df[[f\"{col}_{w}w\" for col in numeric_cols]] = (\n",
      "C:\\Users\\henaj\\AppData\\Local\\Temp\\ipykernel_25640\\3075469095.py:19: PerformanceWarning: DataFrame is highly fragmented.  This is usually the result of calling `frame.insert` many times, which has poor performance.  Consider joining all columns at once using pd.concat(axis=1) instead. To get a de-fragmented frame, use `newframe = frame.copy()`\n",
      "  df[[f\"{col}_{w}w\" for col in numeric_cols]] = (\n",
      "C:\\Users\\henaj\\AppData\\Local\\Temp\\ipykernel_25640\\3075469095.py:19: PerformanceWarning: DataFrame is highly fragmented.  This is usually the result of calling `frame.insert` many times, which has poor performance.  Consider joining all columns at once using pd.concat(axis=1) instead. To get a de-fragmented frame, use `newframe = frame.copy()`\n",
      "  df[[f\"{col}_{w}w\" for col in numeric_cols]] = (\n"
     ]
    },
    {
     "name": "stdout",
     "output_type": "stream",
     "text": [
      "완료 ✅ : 일별_기상데이터_주간평균_날씨파생변수.xlsx\n"
     ]
    }
   ],
   "source": [
    "import pandas as pd\n",
    "import os\n",
    "\n",
    "# 파일 경로\n",
    "input_path = r\"C:\\Users\\henaj\\Downloads\\파이널 프로젝트\\기상데이터\\일별_기상데이터_주간평균.csv\"\n",
    "output_path = r\"C:\\Users\\henaj\\Downloads\\파이널 프로젝트\\기상데이터\\일별_기상데이터_주간평균_날씨파생변수.xlsx\"\n",
    "\n",
    "# 데이터 불러오기\n",
    "df = pd.read_csv(input_path)\n",
    "\n",
    "# '조회일자'를 인덱스로 설정 (계산 용도)\n",
    "df = df.set_index(\"조회일자\")\n",
    "\n",
    "# 숫자형 컬럼만 추출\n",
    "numeric_cols = df.select_dtypes(include=['number']).columns\n",
    "\n",
    "# rolling 평균 계산 (1주전부터 N주전까지 평균 → shift + rolling 사용)\n",
    "for w in [4, 8, 12, 16]:\n",
    "    df[[f\"{col}_{w}w\" for col in numeric_cols]] = (\n",
    "        df[numeric_cols]\n",
    "        .shift(1)  # 현재 주 제외, 1주전부터 시작\n",
    "        .rolling(window=w, min_periods=w)  # N주 모두 쌓였을 때만 값 생성\n",
    "        .mean()\n",
    "    )\n",
    "\n",
    "# 인덱스 복원\n",
    "df = df.reset_index()\n",
    "\n",
    "# 파일 저장\n",
    "df.to_excel(output_path, index=False)\n",
    "\n",
    "print(\"완료 ✅ :\", os.path.basename(output_path))\n"
   ]
  },
  {
   "cell_type": "code",
   "execution_count": null,
   "id": "58bdd632-7c53-45c0-96b5-503fbac7792d",
   "metadata": {},
   "outputs": [],
   "source": []
  }
 ],
 "metadata": {
  "kernelspec": {
   "display_name": "Python [conda env:base] *",
   "language": "python",
   "name": "conda-base-py"
  },
  "language_info": {
   "codemirror_mode": {
    "name": "ipython",
    "version": 3
   },
   "file_extension": ".py",
   "mimetype": "text/x-python",
   "name": "python",
   "nbconvert_exporter": "python",
   "pygments_lexer": "ipython3",
   "version": "3.12.7"
  }
 },
 "nbformat": 4,
 "nbformat_minor": 5
}
